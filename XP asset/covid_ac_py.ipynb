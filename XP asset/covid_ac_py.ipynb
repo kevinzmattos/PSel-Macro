{
 "metadata": {
  "language_info": {
   "codemirror_mode": {
    "name": "ipython",
    "version": 3
   },
   "file_extension": ".py",
   "mimetype": "text/x-python",
   "name": "python",
   "nbconvert_exporter": "python",
   "pygments_lexer": "ipython3",
   "version": "3.8.3"
  },
  "orig_nbformat": 2,
  "kernelspec": {
   "name": "python383jvsc74a57bd0b3ba2566441a7c06988d0923437866b63cedc61552a5af99d1f4fb67d367b25f",
   "display_name": "Python 3.8.3 64-bit ('base': conda)"
  }
 },
 "nbformat": 4,
 "nbformat_minor": 2,
 "cells": [
  {
   "source": [
    "## Vacinação de Covid19 - Acre\n",
    "\n",
    "Este notebook pretende analisar os dados do DATASUS referente a vacinação de Covid19 no Estado do Acre. Os dados podem ser baixados no seguinte link: https://opendatasus.saude.gov.br/dataset/covid-19-vacinacao/resource/ef3bd0b8-b605-474b-9ae5-c97390c197a8"
   ],
   "cell_type": "markdown",
   "metadata": {}
  },
  {
   "source": [
    "## PACOTES NECESSÁRIOS\n",
    "import pandas as pd #limpeza de dados\n",
    "import matplotlib.pylab as plt # gráficos\n",
    "from datetime import datetime\n"
   ],
   "cell_type": "code",
   "metadata": {},
   "execution_count": null,
   "outputs": []
  },
  {
   "cell_type": "code",
   "execution_count": null,
   "metadata": {},
   "outputs": [],
   "source": [
    "df = pd.read_csv(\"C:\\\\Users\\\\kevin\\\\OneDrive\\\\Documentos\\\\covid_ac.csv\", sep=\";\")\n",
    "df.head()"
   ]
  },
  {
   "cell_type": "code",
   "execution_count": null,
   "metadata": {},
   "outputs": [],
   "source": [
    "df.columns\n"
   ]
  },
  {
   "cell_type": "code",
   "execution_count": null,
   "metadata": {},
   "outputs": [],
   "source": [
    "\n",
    "### Analisando a idade dos pacientes\n",
    "print(\"A idade minima é:\",df[\"paciente_idade\"].min())\n",
    "print(\"A idade máxima é:\",df[\"paciente_idade\"].max())\n",
    "print(\"A idade média é:\",df[\"paciente_idade\"].mean())\n",
    "print(\"A idade mediana é:\",df[\"paciente_idade\"].median())\n"
   ]
  },
  {
   "cell_type": "code",
   "execution_count": null,
   "metadata": {},
   "outputs": [],
   "source": [
    "## analisar casos suspeitos\n",
    "\n",
    "print(df.loc[df[\"paciente_idade\"] <18, \"paciente_idade\"].count()) # menores de idade\n",
    "print(df.loc[df[\"paciente_idade\"] >=110, \"paciente_idade\"].count()) # 110 anos ou mais\n",
    "\n",
    "\n"
   ]
  },
  {
   "cell_type": "code",
   "execution_count": null,
   "metadata": {},
   "outputs": [],
   "source": [
    "# distribuicao da idade dos pacientes\n",
    "print(df[\"paciente_idade\"].hist(bins=30))"
   ]
  },
  {
   "source": [
    "## Analisando os números de vacinação"
   ],
   "cell_type": "markdown",
   "metadata": {}
  },
  {
   "cell_type": "code",
   "execution_count": null,
   "metadata": {},
   "outputs": [],
   "source": [
    "df[\"vacina_dataAplicacao\"] = pd.to_datetime(df[\"vacina_dataAplicacao\"])\r\n",
    "\r\n",
    "df[\"vacina_dataAplicacao\"] = df[\"vacina_dataAplicacao\"]"
   ]
  },
  {
   "cell_type": "code",
   "execution_count": null,
   "metadata": {},
   "outputs": [],
   "source": [
    "df[\"vacina_dataAplicacao\"]"
   ]
  }
 ]
}